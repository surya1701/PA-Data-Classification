{
 "cells": [
  {
   "cell_type": "code",
   "execution_count": 6,
   "metadata": {},
   "outputs": [],
   "source": [
    "import numpy as np\n",
    "import matplotlib.pyplot as plt\n",
    "import pandas as pd\n",
    "from random import seed, randrange\n",
    "from math import sqrt"
   ]
  },
  {
   "cell_type": "code",
   "execution_count": 10,
   "metadata": {},
   "outputs": [
    {
     "data": {
      "text/html": [
       "<div>\n",
       "<style scoped>\n",
       "    .dataframe tbody tr th:only-of-type {\n",
       "        vertical-align: middle;\n",
       "    }\n",
       "\n",
       "    .dataframe tbody tr th {\n",
       "        vertical-align: top;\n",
       "    }\n",
       "\n",
       "    .dataframe thead th {\n",
       "        text-align: right;\n",
       "    }\n",
       "</style>\n",
       "<table border=\"1\" class=\"dataframe\">\n",
       "  <thead>\n",
       "    <tr style=\"text-align: right;\">\n",
       "      <th></th>\n",
       "      <th>league = World: FIFA World Cup</th>\n",
       "      <th>league = Europe: Euro</th>\n",
       "      <th>league = South America: Copa America</th>\n",
       "      <th>team_1</th>\n",
       "      <th>team_2</th>\n",
       "      <th>avgRat_team1</th>\n",
       "      <th>avgRat_team2</th>\n",
       "      <th>avgAge_team1</th>\n",
       "      <th>avgAge_team2</th>\n",
       "      <th>team1_Population</th>\n",
       "      <th>team1_GDP</th>\n",
       "      <th>team1_avg_years_of_schooling</th>\n",
       "      <th>team2_Population</th>\n",
       "      <th>team2_GDP</th>\n",
       "      <th>team2_avg_years_of_schooling</th>\n",
       "      <th>result</th>\n",
       "    </tr>\n",
       "  </thead>\n",
       "  <tbody>\n",
       "    <tr>\n",
       "      <th>0</th>\n",
       "      <td>1.0</td>\n",
       "      <td>0.0</td>\n",
       "      <td>0.0</td>\n",
       "      <td>0.0</td>\n",
       "      <td>0.0</td>\n",
       "      <td>5.097443</td>\n",
       "      <td>1.859638</td>\n",
       "      <td>-3.190945</td>\n",
       "      <td>0.790466</td>\n",
       "      <td>0.291918</td>\n",
       "      <td>0.752425</td>\n",
       "      <td>1.542243</td>\n",
       "      <td>-0.303294</td>\n",
       "      <td>-0.611643</td>\n",
       "      <td>-0.409598</td>\n",
       "      <td>Team1_Win</td>\n",
       "    </tr>\n",
       "  </tbody>\n",
       "</table>\n",
       "</div>"
      ],
      "text/plain": [
       "   league = World: FIFA World Cup  league = Europe: Euro  \\\n",
       "0                             1.0                    0.0   \n",
       "\n",
       "   league = South America: Copa America  team_1  team_2  avgRat_team1  \\\n",
       "0                                   0.0     0.0     0.0      5.097443   \n",
       "\n",
       "   avgRat_team2  avgAge_team1  avgAge_team2  team1_Population  team1_GDP  \\\n",
       "0      1.859638     -3.190945      0.790466          0.291918   0.752425   \n",
       "\n",
       "   team1_avg_years_of_schooling  team2_Population  team2_GDP  \\\n",
       "0                      1.542243         -0.303294  -0.611643   \n",
       "\n",
       "   team2_avg_years_of_schooling     result  \n",
       "0                     -0.409598  Team1_Win  "
      ]
     },
     "execution_count": 10,
     "metadata": {},
     "output_type": "execute_result"
    }
   ],
   "source": [
    "df = pd.read_csv(\"Final_Data_pre.csv\")\n",
    "df.head(1)"
   ]
  },
  {
   "cell_type": "code",
   "execution_count": 11,
   "metadata": {},
   "outputs": [
    {
     "data": {
      "text/plain": [
       "array([[1.0, 0.0, 0.0, ..., -0.6116434948705063, -0.4095977152802895,\n",
       "        'Team1_Win'],\n",
       "       [1.0, 0.0, 0.0, ..., -0.6935137876059352, -0.4696689218848015,\n",
       "        'Team2_Win'],\n",
       "       [1.0, 0.0, 0.0, ..., -0.7340351939106379, -0.6713853031533613,\n",
       "        'Team1_Win'],\n",
       "       ...,\n",
       "       [1.0, 0.0, 0.0, ..., -0.166022912812661, 1.0317699295541083,\n",
       "        'Draw'],\n",
       "       [1.0, 0.0, 0.0, ..., 1.2653305879500512, 1.1170983480264265,\n",
       "        'Team1_Win'],\n",
       "       [1.0, 0.0, 0.0, ..., 1.0774997552350578, 1.4345200647434495,\n",
       "        'Draw']], dtype=object)"
      ]
     },
     "execution_count": 11,
     "metadata": {},
     "output_type": "execute_result"
    }
   ],
   "source": [
    "df.values"
   ]
  },
  {
   "cell_type": "code",
   "execution_count": 21,
   "metadata": {},
   "outputs": [],
   "source": [
    "def cross_validation(dataset, algorithm, n_folds, *args):\n",
    "    dataset_split = list()\n",
    "    dataset_copy = list(dataset)\n",
    "    fold_size = int(len(dataset) / n_folds)\n",
    "    for _ in range(n_folds):\n",
    "        fold = list()\n",
    "        while len(fold) < fold_size:\n",
    "            index = randrange(len(dataset_copy))\n",
    "            fold.append(dataset_copy.pop(index))\n",
    "        dataset_split.append(fold)\n",
    "    folds = dataset_split\n",
    "    \n",
    "    scores = list()\n",
    "    for n in range(len(folds)):\n",
    "        print(n)\n",
    "        train_set = list()\n",
    "        for i in range(len(folds)):\n",
    "            if i!=n:\n",
    "                train_set += folds[i]\n",
    "        test_set = list()\n",
    "        for row in folds[n]:\n",
    "            row_copy = list(row)\n",
    "            test_set.append(row_copy)\n",
    "            row_copy[-1] = None\n",
    "        predicted = algorithm(train_set, test_set, *args)\n",
    "        actual = [row[-1] for row in fold]\n",
    "        correct = 0\n",
    "        for i in range(len(actual)):\n",
    "            if actual[i] == predicted[i]:\n",
    "                correct += 1\n",
    "        accuracy = correct / float(len(actual)) * 100.0\n",
    "        scores.append(accuracy)\n",
    "    return scores\n",
    "\n",
    "def euclidean_distance(row1, row2):\n",
    "    distance = 0.0\n",
    "    for i in range(len(row1)-1):\n",
    "        distance += (row1[i] - row2[i])**2\n",
    "    return sqrt(distance)\n",
    "\n",
    "def get_neighbors(train, test_row, num_neighbors):\n",
    "    distances = list()\n",
    "    for train_row in train:\n",
    "        dist = euclidean_distance(test_row, train_row)\n",
    "        distances.append((train_row, dist))\n",
    "    distances.sort(key=lambda tup: tup[1])\n",
    "    neighbors = list()\n",
    "    for i in range(num_neighbors):\n",
    "        neighbors.append(distances[i][0])\n",
    "    return neighbors\n",
    "\n",
    "def k_nearest_neighbors(train, test, num_neighbors):\n",
    "    predictions = list()\n",
    "    for row in test:\n",
    "        neighbors = get_neighbors(train, row, num_neighbors)\n",
    "        output_values = [trow[-1] for trow in neighbors]\n",
    "        output = max(set(output_values), key=output_values.count)\n",
    "        predictions.append(output)\n",
    "    return predictions"
   ]
  },
  {
   "cell_type": "code",
   "execution_count": 25,
   "metadata": {},
   "outputs": [],
   "source": [
    "n_folds = 5\n",
    "num_neighbors = 5\n",
    "scores = cross_validation(df.values, k_nearest_neighbors, n_folds, num_neighbors)"
   ]
  },
  {
   "cell_type": "code",
   "execution_count": 28,
   "metadata": {},
   "outputs": [
    {
     "data": {
      "text/plain": [
       "([35.843054082714744,\n",
       "  39.660657476139974,\n",
       "  36.79745493107105,\n",
       "  35.52492046659597,\n",
       "  49.94697773064687],\n",
       " 'Accuracy: 39.554612937433724')"
      ]
     },
     "execution_count": 28,
     "metadata": {},
     "output_type": "execute_result"
    }
   ],
   "source": [
    "scores, \"Accuracy: \" + str(sum(scores)/float(len(scores)))"
   ]
  },
  {
   "cell_type": "code",
   "execution_count": null,
   "metadata": {},
   "outputs": [],
   "source": []
  }
 ],
 "metadata": {
  "kernelspec": {
   "display_name": "Python 3",
   "language": "python",
   "name": "python3"
  },
  "language_info": {
   "codemirror_mode": {
    "name": "ipython",
    "version": 3
   },
   "file_extension": ".py",
   "mimetype": "text/x-python",
   "name": "python",
   "nbconvert_exporter": "python",
   "pygments_lexer": "ipython3",
   "version": "3.7.4"
  }
 },
 "nbformat": 4,
 "nbformat_minor": 2
}
