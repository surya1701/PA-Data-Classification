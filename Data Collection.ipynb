{
 "cells": [
  {
   "cell_type": "code",
   "execution_count": null,
   "metadata": {},
   "outputs": [],
   "source": [
    "import os\n",
    "import pandas as pd\n",
    "from tqdm import tqdm"
   ]
  },
  {
   "cell_type": "code",
   "execution_count": null,
   "metadata": {},
   "outputs": [],
   "source": [
    "matches = pd.read_csv(\"Football/football-matches-1872-to-2018.csv\")\n",
    "print(len(matches))\n",
    "matches.head(1)"
   ]
  },
  {
   "cell_type": "code",
   "execution_count": null,
   "metadata": {},
   "outputs": [],
   "source": [
    "matches[\"league\"].value_counts()"
   ]
  },
  {
   "cell_type": "code",
   "execution_count": null,
   "metadata": {},
   "outputs": [],
   "source": [
    "match_map = {\"FIFA World Cup\": \"World: FIFA World Cup\",\n",
    "             \"UEFA Euro\": \"Europe: Euro\", \n",
    "             \"FIFA Confederations Cup\": \"World: FIFA Confederations Cup\",\n",
    "             \"Copa America Centenario\": \"South America: Copa America\"}"
   ]
  },
  {
   "cell_type": "markdown",
   "metadata": {},
   "source": [
    "## Combining data of players representing a team in each competition by year"
   ]
  },
  {
   "cell_type": "code",
   "execution_count": null,
   "metadata": {},
   "outputs": [],
   "source": [
    "squad = []\n",
    "for i in os.listdir(\"Football/squad_member/\"):\n",
    "    print(i.split('_')[0], \" \".join(i.split('_')[1:-1]))\n",
    "    if len(squad) == 0:\n",
    "        squad = pd.read_csv(\"Football/squad_member/\"+i)\n",
    "        squad[\"year\"] = [i.split('_')[0]]*len(squad)\n",
    "        squad[\"league\"] = [match_map[\" \".join(i.split('_')[1:-1])]]*len(squad)\n",
    "        squad[\"first_name\"] = squad[\"player_name\"].apply(lambda x: x.split()[0])\n",
    "        squad[\"last_name\"] = squad[\"player_name\"].apply(lambda x: x.split()[-1])\n",
    "    else:\n",
    "        temp = pd.read_csv(\"Football/squad_member/\"+i)\n",
    "        temp[\"year\"] = [i.split('_')[0]]*len(temp)\n",
    "        temp[\"league\"] = [match_map[\" \".join(i.split('_')[1:-1])]]*len(temp)\n",
    "        temp[\"first_name\"] = temp[\"player_name\"].apply(lambda x: x.split()[0])\n",
    "        temp[\"last_name\"] = temp[\"player_name\"].apply(lambda x: x.split()[-1])\n",
    "        squad = squad.append(temp)\n",
    "    print(len(squad))\n",
    "squad.head(5)"
   ]
  },
  {
   "cell_type": "code",
   "execution_count": null,
   "metadata": {},
   "outputs": [],
   "source": [
    "squad.to_csv(\"Football/all_squads.csv\")"
   ]
  },
  {
   "cell_type": "markdown",
   "metadata": {},
   "source": [
    "## Combining data of EA Sports Fifa player ratings for every year's release of the game"
   ]
  },
  {
   "cell_type": "code",
   "execution_count": null,
   "metadata": {},
   "outputs": [],
   "source": [
    "players = []\n",
    "for i in os.listdir(\"Football/player/data clean/\"):\n",
    "    print(\"20\"+i.split('_')[0][-2:])\n",
    "    if len(players) == 0:\n",
    "        players = pd.read_csv(\"Football/player/data clean/\"+i)\n",
    "        players[\"year\"] = [\"20\"+i.split('_')[0][-2:]]*len(players)\n",
    "        players[\"first_name\"] = players[\"Name\"].apply(lambda x: x.split()[0])\n",
    "        players[\"last_name\"] = players[\"Name\"].apply(lambda x: x.split()[-1])\n",
    "    else:\n",
    "        temp = pd.read_csv(\"Football/player/data clean/\"+i)\n",
    "        temp[\"year\"] = [\"20\"+i.split('_')[0][-2:]]*len(temp)\n",
    "        temp[\"first_name\"] = temp[\"Name\"].apply(lambda x: x.split()[0])\n",
    "        temp[\"last_name\"] = temp[\"Name\"].apply(lambda x: x.split()[-1])\n",
    "        players = players.append(temp)\n",
    "    print(len(players))\n",
    "players = players[[\"Name\",\"Country\",\"Club\",\"OverRate\",\"PotRate\",\"Height\",\"Weight\",\"PreferredFoot\",\"BirthDate\",\"Age\",\"year\",\"first_name\",\"last_name\"]]\n",
    "players.head(1)"
   ]
  },
  {
   "cell_type": "code",
   "execution_count": null,
   "metadata": {},
   "outputs": [],
   "source": [
    "players.to_csv(\"Football/all_players.csv\")"
   ]
  },
  {
   "cell_type": "markdown",
   "metadata": {},
   "source": [
    "## Merging Squad and Player rating data"
   ]
  },
  {
   "cell_type": "code",
   "execution_count": null,
   "metadata": {},
   "outputs": [],
   "source": [
    "squad = pd.read_csv(\"Football/all_squads.csv\")\n",
    "players = pd.read_csv(\"Football/all_players.csv\")\n",
    "\n",
    "ratings = []\n",
    "age = []\n",
    "for n, row in squad.iterrows():\n",
    "    if \"Serbia\" in row[\"Country\"]:\n",
    "        row[\"Country\"] = \"Serbia\"\n",
    "    if \"Trinidad\" in row[\"Country\"]:\n",
    "        row[\"Country\"] = \"Trinidad & Tobago\"\n",
    "    temp = players[(players[\"Country\"] == row[\"Country\"]) & (players[\"year\"] == row[\"year\"])]\n",
    "    temp = temp[temp[\"first_name\"] == row[\"first_name\"]]\n",
    "    if len(temp) > 1:\n",
    "        temp = temp[temp[\"last_name\"] == row[\"last_name\"]]\n",
    "    if len(temp):\n",
    "        ratings.append(temp[\"OverRate\"].to_list()[0])\n",
    "        age.append(temp[\"Age\"].to_list()[0])\n",
    "    else:\n",
    "        print(row[\"year\"], row[\"player_name\"], row[\"Country\"])\n",
    "        ratings.append(None)\n",
    "        age.append(None)\n",
    "#     break"
   ]
  },
  {
   "cell_type": "code",
   "execution_count": null,
   "metadata": {},
   "outputs": [],
   "source": [
    "ratings.count(None)"
   ]
  },
  {
   "cell_type": "code",
   "execution_count": null,
   "metadata": {},
   "outputs": [],
   "source": [
    "squad[\"ratings\"] = ratings\n",
    "squad[\"age\"] = age\n",
    "squad.head(1)"
   ]
  },
  {
   "cell_type": "code",
   "execution_count": null,
   "metadata": {},
   "outputs": [],
   "source": [
    "squad[\"ratings\"] = squad[\"ratings\"].fillna(squad[\"ratings\"].min())\n",
    "squad[\"age\"] = squad[\"age\"].fillna(int(squad[\"age\"].mean()))\n",
    "\n",
    "squad.to_csv(\"Football/squad_withratings.csv\")"
   ]
  },
  {
   "cell_type": "code",
   "execution_count": null,
   "metadata": {},
   "outputs": [],
   "source": []
  },
  {
   "cell_type": "code",
   "execution_count": null,
   "metadata": {},
   "outputs": [],
   "source": [
    "def dates(x):\n",
    "    x = x.split()[0]\n",
    "    if '-' in x:\n",
    "        return x.split('-')[-1]\n",
    "    elif '/' in x:\n",
    "        return x.split('/')[-1]\n",
    "    elif '\\\\' in x:\n",
    "        return x.split('\\\\')[-1]\n",
    "    else:\n",
    "        print(x)"
   ]
  },
  {
   "cell_type": "code",
   "execution_count": null,
   "metadata": {},
   "outputs": [],
   "source": [
    "flag = {}\n",
    "for i in list(match_map.values()):\n",
    "    flag[i] = True\n",
    "flag"
   ]
  },
  {
   "cell_type": "markdown",
   "metadata": {},
   "source": [
    "## Formatting data to ensure the competitions are uniform across the dataset"
   ]
  },
  {
   "cell_type": "code",
   "execution_count": null,
   "metadata": {},
   "outputs": [],
   "source": [
    "map_to_league = {\"World: Friendly International\": \"No\",\n",
    "\"World: FIFA World Cup Qualification\": \"World: FIFA World Cup\",\n",
    "\"Europe: Euro Qualification\": \"Europe: Euro\",\n",
    "\"Africa: Africa Cup of Nations Qualification\": \"World: FIFA World Cup\",\n",
    "\"World: FIFA World Cup\": \"World: FIFA World Cup\",\n",
    "\"Asia: Asian Cup Qualification\": \"World: FIFA World Cup\",\n",
    "\"Africa: Africa Cup of Nations\": \"World: FIFA World Cup\",\n",
    "\"North&South America: Gold Cup\": \"No\",\n",
    "\"Africa: African Nations Championship\": \"No\",\n",
    "\"Europe: Euro\": \"Europe: Euro\",\n",
    "\"South America: Copa America\": \"South America: Copa America\",\n",
    "\"Asia: Gulf Cup\": \"No\",\n",
    "\"Asia: AFF Suzuki Cup\": \"No\",\n",
    "\"Asia: Asian Cup\": \"World: FIFA World Cup\",\n",
    "\"Africa: African Nations Championship Qualification\": \"No\",\n",
    "\"World: FIFA Confederations Cup\": \"World: FIFA Confederations Cup\",\n",
    "\"Asia: AFF Suzuki Cup Qualification\": \"No\",\n",
    "\"Europe: Nations Cup\": \"Europe: Euro\",\n",
    "\"North&South America: Gold Cup Qualification\": \"No\",\n",
    "\"South America: Copa America Qualification\": \"South America: Copa America\"}"
   ]
  },
  {
   "cell_type": "markdown",
   "metadata": {},
   "source": [
    "## Assigning average Player rating and average Age for each team in a match"
   ]
  },
  {
   "cell_type": "code",
   "execution_count": null,
   "metadata": {},
   "outputs": [],
   "source": [
    "matches = pd.read_csv(\"Football/football-matches-1872-to-2018.csv\")\n",
    "matches[\"year\"] = matches[\"match_date\"].apply(lambda x: int(dates(x)))\n",
    "matches = matches[matches[\"year\"] >= 2006]\n",
    "matches[\"league\"] = matches[\"league\"].apply(lambda x: map_to_league[x])\n",
    "matches = matches[[flag.get(i, False) for i in matches[\"league\"]]]\n",
    "matches = matches[matches[\"team_1\"].apply(lambda x: \"U19\" not in x)]\n",
    "matches = matches[matches[\"team_1\"].apply(lambda x: \"U20\" not in x)]\n",
    "print(len(matches))\n",
    "matches.head(1)"
   ]
  },
  {
   "cell_type": "code",
   "execution_count": null,
   "metadata": {},
   "outputs": [],
   "source": [
    "matches[\"league\"].value_counts()"
   ]
  },
  {
   "cell_type": "code",
   "execution_count": null,
   "metadata": {},
   "outputs": [],
   "source": [
    "result = []\n",
    "for n, row in matches.iterrows():\n",
    "    if row[\"score_1\"] == row[\"score_2\"]:\n",
    "        result.append(\"Draw\")\n",
    "    elif row[\"score_1\"] > row[\"score_2\"]:\n",
    "        result.append(\"Team1_Win\")\n",
    "    else:\n",
    "        result.append(\"Team2_Win\")\n",
    "matches[\"result\"] = result\n",
    "matches.head(1)"
   ]
  },
  {
   "cell_type": "code",
   "execution_count": null,
   "metadata": {},
   "outputs": [],
   "source": [
    "squad = pd.read_csv(\"Football/squad_withratings.csv\")\n",
    "squad = squad.replace(\"Serbia and Montenegro\", \"Serbia\")\n",
    "squad = squad.replace(\"Trinidad and Tobago\", \"Trinidad & Tobago\")\n",
    "squad.head(1)"
   ]
  },
  {
   "cell_type": "code",
   "execution_count": null,
   "metadata": {},
   "outputs": [],
   "source": [
    "avgRat_team1 = []\n",
    "avgRat_team2 = []\n",
    "avgAge_team1 = []\n",
    "avgAge_team2 = []\n",
    "for n, row in matches.iterrows():\n",
    "    if \"Serbia\" in row[\"team_1\"]:\n",
    "        row[\"team_1\"] = \"Serbia\"\n",
    "    if \"Serbia\" in row[\"team_2\"]:\n",
    "        row[\"team_2\"] = \"Serbia\"\n",
    "    temp1 = squad[(squad[\"Country\"] == row[\"team_1\"]) & (squad[\"year\"] == int(row[\"year\"])) & (squad[\"league\"] == row[\"league\"])]\n",
    "    if len(temp1) == 0:\n",
    "        print(row[\"year\"], row[\"team_1\"])\n",
    "        avgRat_team1.append(None)\n",
    "        avgAge_team1.append(None)\n",
    "    else:\n",
    "        avgRat_team1.append(temp1[\"ratings\"].mean())\n",
    "        avgAge_team1.append(temp1[\"age\"].mean())\n",
    "    temp2 = squad[(squad[\"Country\"] == row[\"team_2\"]) & (squad[\"year\"] == int(row[\"year\"])) & (squad[\"league\"] == row[\"league\"])]\n",
    "    if len(temp2) == 0:\n",
    "        print(row[\"year\"], row[\"team_2\"])\n",
    "        avgRat_team2.append(None)\n",
    "        avgAge_team2.append(None)\n",
    "    else:\n",
    "        avgRat_team2.append(temp2[\"ratings\"].mean())\n",
    "        avgAge_team2.append(temp2[\"age\"].mean())"
   ]
  },
  {
   "cell_type": "code",
   "execution_count": null,
   "metadata": {},
   "outputs": [],
   "source": [
    "matches[\"avgRat_team1\"] = avgRat_team1\n",
    "matches[\"avgRat_team2\"] = avgRat_team2\n",
    "matches[\"avgAge_team1\"] = avgAge_team1\n",
    "matches[\"avgAge_team2\"] = avgAge_team2\n",
    "matches.head(1)"
   ]
  },
  {
   "cell_type": "code",
   "execution_count": null,
   "metadata": {},
   "outputs": [],
   "source": [
    "matches = matches[[\"league\", \"match_date\", \"team_1\", \"team_2\", \"score_1\", \"score_2\", \"result\", \"year\", \"avgRat_team1\",\"avgRat_team2\",\"avgAge_team1\",\"avgAge_team2\"]]\n",
    "print(len(matches))\n",
    "matches[\"avgRat_team1\"] = matches[\"avgRat_team1\"].fillna(matches[\"avgRat_team1\"].min())\n",
    "matches[\"avgRat_team2\"] = matches[\"avgRat_team2\"].fillna(matches[\"avgRat_team2\"].min())\n",
    "matches[\"avgAge_team1\"] = matches[\"avgAge_team1\"].fillna(matches[\"avgAge_team1\"].mean())\n",
    "matches[\"avgAge_team2\"] = matches[\"avgAge_team2\"].fillna(matches[\"avgAge_team2\"].mean())\n",
    "matches.head(1)"
   ]
  },
  {
   "cell_type": "code",
   "execution_count": null,
   "metadata": {},
   "outputs": [],
   "source": [
    "matches.to_csv(\"Football/matches_withratings.csv\")"
   ]
  },
  {
   "cell_type": "markdown",
   "metadata": {},
   "source": [
    "## Encorporating Country data for every given year: GDP, Population, Avg. years of schooling"
   ]
  },
  {
   "cell_type": "code",
   "execution_count": null,
   "metadata": {},
   "outputs": [],
   "source": [
    "res = {\"Country\": [], \"year\": [], \"Population\": [], \"GDP\": [], \"avg_years_of_schooling\": []}\n",
    "df = pd.read_csv(\"Countries/GDP.csv\")\n",
    "df_pop = pd.read_csv(\"Countries/Population.csv\")\n",
    "df_pop[\"Country Name\"] = df_pop[\"Country Name\"].replace(\"Egypt, Arab Rep.\", \"Egypt\")\n",
    "df_pop[\"Country Name\"] = df_pop[\"Country Name\"].replace(\"Iran, Islamic Rep.\", \"Iran\")\n",
    "\n",
    "df_school = pd.read_csv(\"Countries/GDL-Mean-years-schooling-data.csv\")\n",
    "df_school[\"Country\"] = df_school[\"Country\"].replace(\"Argentina urban\", \"Argentina\")\n",
    "df_school[\"Country\"] = df_school[\"Country\"].replace(\"Chili\", \"Chile\")\n",
    "df_school[\"Country\"] = df_school[\"Country\"].replace(\"Trinidad & Tobago\", \"Trinidad and Tobago\")\n",
    "df_school[\"Country\"] = df_school[\"Country\"].replace(\"Czech Republic\", \"Czechia\")\n",
    "df_school[\"Country\"] = df_school[\"Country\"].replace(\"Slovakia\", \"Slovak Republic\")\n",
    "df_school[\"Country\"] = df_school[\"Country\"].replace(\"Turkey\", \"Turkiye\")\n",
    "df_school[\"Country\"] = df_school[\"Country\"].replace(\"Venezuela\", \"Venezuela, RB\")\n",
    "df_school[\"Country\"] = df_school[\"Country\"].replace(\"South Korea\", \"Korea, Rep.\")\n",
    "\n",
    "\n",
    "for n, row in df.iterrows():\n",
    "    if \"Egypt\" in row[\"Country Name\"]:\n",
    "        row[\"Country Name\"] = \"Egypt\"\n",
    "    if \"Iran\" in row[\"Country Name\"]:\n",
    "        row[\"Country Name\"] = \"Iran\"\n",
    "    temp_pop = df_pop[df_pop[\"Country Name\"] == row[\"Country Name\"]]\n",
    "#     temp_dens = df_dens[df_dens[\"Country Name\"] == row[\"Country Name\"]]\n",
    "    temp_school = df_school[df_school[\"Country\"] == row[\"Country Name\"]]\n",
    "    if len(temp_school) == 0:\n",
    "        print(row[\"Country Name\"])\n",
    "        continue\n",
    "    for y in range(2006,2018+1):\n",
    "#         temp_dens_byYear = temp_dens[temp_dens[\"Year\"] == y]\n",
    "#         print(temp_pop[str(y)])\n",
    "        temp_pop_byYear = float(temp_pop[str(y)])\n",
    "        temp_school_byYear = float(temp_school[str(y)])\n",
    "#         print(row[\"Country Name\"], temp_pop, y)\n",
    "        res[\"Country\"].append(row[\"Country Name\"])\n",
    "        res[\"year\"].append(y)\n",
    "        res[\"Population\"].append(temp_pop_byYear)\n",
    "        res[\"GDP\"].append(row[str(y)])\n",
    "        res[\"avg_years_of_schooling\"].append(temp_school_byYear)\n",
    "#         res[\"Population_Density\"].append(temp_dens_byYear[\"Count\"].to_list()[0])\n",
    "#     break\n",
    "res = pd.DataFrame(res)\n",
    "print(len(res))\n",
    "res.head()"
   ]
  },
  {
   "cell_type": "code",
   "execution_count": null,
   "metadata": {},
   "outputs": [],
   "source": [
    "res = res.replace(\"United Kingdom\", \"England\")\n",
    "res = res.replace(\"Trinidad and Tobago\", \"Trinidad & Tobago\")\n",
    "res = res.replace(\"Serbia\", \"Serbia and Montenegro\")\n",
    "res = res.replace(\"Czechia\",\"Czech Republic\")\n",
    "res = res.replace(\"Russian Federation\", \"Russia\")\n",
    "res = res.replace(\"Slovak Republic\", \"Slovakia\")\n",
    "res = res.replace(\"Turkiye\",\"Turkey\")\n",
    "res = res.replace(\"United States\", \"USA\")\n",
    "res = res.replace(\"Venezuela, RB\", \"Venezuela\")\n",
    "res = res.replace(\"Korea, Rep.\", \"South Korea\")"
   ]
  },
  {
   "cell_type": "code",
   "execution_count": null,
   "metadata": {},
   "outputs": [],
   "source": [
    "res.to_csv(\"Countries/combined.csv\")"
   ]
  },
  {
   "cell_type": "code",
   "execution_count": null,
   "metadata": {},
   "outputs": [],
   "source": []
  },
  {
   "cell_type": "markdown",
   "metadata": {},
   "source": [
    "## Mergining all of the data to get a set of matches with additional data for each game"
   ]
  },
  {
   "cell_type": "code",
   "execution_count": null,
   "metadata": {},
   "outputs": [],
   "source": [
    "matches = pd.read_csv(\"Football/matches_withratings.csv\", index_col=[0])\n",
    "matches = matches.replace(\"Serbia\", \"Serbia and Montenegro\")\n",
    "matches.head(1)"
   ]
  },
  {
   "cell_type": "code",
   "execution_count": null,
   "metadata": {},
   "outputs": [],
   "source": [
    "res = {\"team1_Population\": [], \"team1_GDP\": [], \"team1_avg_years_of_schooling\": [], \"team2_Population\": [], \"team2_GDP\": [], \"team2_avg_years_of_schooling\": []}\n",
    "country_data = pd.read_csv(\"Countries/combined.csv\")\n",
    "\n",
    "\n",
    "for n, row in matches.iterrows():\n",
    "    temp1 = country_data[(country_data[\"Country\"] == row[\"team_1\"]) & (country_data[\"year\"] == row[\"year\"])]\n",
    "    if len(temp1) != 1:\n",
    "#         print(row[\"team_1\"],row[\"year\"])\n",
    "        res[\"team1_Population\"].append(None)\n",
    "        res[\"team1_GDP\"].append(None)\n",
    "        res[\"team1_avg_years_of_schooling\"].append(None)\n",
    "    else:\n",
    "        res[\"team1_Population\"].append(temp1[\"Population\"].to_list()[0])\n",
    "        res[\"team1_GDP\"].append(temp1[\"GDP\"].to_list()[0])\n",
    "        res[\"team1_avg_years_of_schooling\"].append(temp1[\"avg_years_of_schooling\"].to_list()[0])\n",
    "        \n",
    "    temp2 = country_data[(country_data[\"Country\"] == row[\"team_2\"]) & (country_data[\"year\"] == row[\"year\"])]\n",
    "    if len(temp2) != 1:\n",
    "#         print(row[\"team_2\"],row[\"year\"])\n",
    "        res[\"team2_Population\"].append(None)\n",
    "        res[\"team2_GDP\"].append(None)\n",
    "        res[\"team2_avg_years_of_schooling\"].append(None)\n",
    "    else:\n",
    "        res[\"team2_Population\"].append(temp2[\"Population\"].to_list()[0])\n",
    "        res[\"team2_GDP\"].append(temp2[\"GDP\"].to_list()[0])\n",
    "        res[\"team2_avg_years_of_schooling\"].append(temp2[\"avg_years_of_schooling\"].to_list()[0])\n",
    "        \n",
    "matches[\"team1_Population\"] = res[\"team1_Population\"]\n",
    "matches[\"team1_GDP\"] = res[\"team1_GDP\"]\n",
    "matches[\"team1_avg_years_of_schooling\"] = res[\"team1_avg_years_of_schooling\"]\n",
    "matches[\"team2_Population\"] = res[\"team2_Population\"]\n",
    "matches[\"team2_GDP\"] = res[\"team2_GDP\"]\n",
    "matches[\"team2_avg_years_of_schooling\"] = res[\"team2_avg_years_of_schooling\"]\n",
    "len(matches)"
   ]
  },
  {
   "cell_type": "code",
   "execution_count": null,
   "metadata": {},
   "outputs": [],
   "source": [
    "matches.head(1)"
   ]
  },
  {
   "cell_type": "code",
   "execution_count": null,
   "metadata": {},
   "outputs": [],
   "source": [
    "matches.to_csv(\"Final_Data.csv\")"
   ]
  },
  {
   "cell_type": "code",
   "execution_count": null,
   "metadata": {},
   "outputs": [],
   "source": []
  }
 ],
 "metadata": {
  "kernelspec": {
   "display_name": "Python 3",
   "language": "python",
   "name": "python3"
  },
  "language_info": {
   "codemirror_mode": {
    "name": "ipython",
    "version": 3
   },
   "file_extension": ".py",
   "mimetype": "text/x-python",
   "name": "python",
   "nbconvert_exporter": "python",
   "pygments_lexer": "ipython3",
   "version": "3.7.4"
  }
 },
 "nbformat": 4,
 "nbformat_minor": 2
}
